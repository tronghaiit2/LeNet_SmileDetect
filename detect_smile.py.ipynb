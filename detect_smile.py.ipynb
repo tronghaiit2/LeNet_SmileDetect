{
 "cells": [
  {
   "cell_type": "code",
   "execution_count": 1,
   "metadata": {},
   "outputs": [],
   "source": [
    "model = \"output\"\n",
    "cascade = \"haarcascade_frontalface_default.xml\""
   ]
  },
  {
   "cell_type": "code",
   "execution_count": 2,
   "metadata": {},
   "outputs": [],
   "source": [
    "from tensorflow.keras.preprocessing.image import img_to_array\n",
    "from tensorflow.keras.models import load_model\n",
    "import numpy as np\n",
    "import argparse\n",
    "import imutils\n",
    "import cv2\n"
   ]
  },
  {
   "cell_type": "code",
   "execution_count": 3,
   "metadata": {},
   "outputs": [],
   "source": [
    "# load the face detector cascade and smile detector CNN\n",
    "detector = cv2.CascadeClassifier(cascade)\n",
    "model = load_model(model)"
   ]
  },
  {
   "cell_type": "code",
   "execution_count": 11,
   "metadata": {},
   "outputs": [],
   "source": [
    "camera = cv2.VideoCapture(0)\n",
    "\n",
    "\n",
    "# keep looping\n",
    "while True:\n",
    "    # grab the current frame\n",
    "    (grabbed, frame) = camera.read()\n",
    "\n",
    "    # reszie the frame, convert it to grayscale, then clone the\n",
    "    # original frame so we can draw on it later in the program\n",
    "    frame = imutils.resize(frame, width = 300)\n",
    "    gray = cv2.cvtColor(frame, cv2.COLOR_BGR2GRAY)\n",
    "    frameClone = frame.copy()\n",
    "\n",
    "    # detect faces in the input frame, then clone the frame so\n",
    "    # that we can draw on it\n",
    "    rects = detector.detectMultiScale(gray, scaleFactor = 1.1, minNeighbors = 5,\n",
    "            minSize = (36, 36), flags = cv2.CASCADE_SCALE_IMAGE)\n",
    "\n",
    "    for (fX, fY, fW, fH) in rects:\n",
    "        # extract the ROI of the face from the grayscale image,\n",
    "        # resize it to a fixed 28x28 pixels, and then prepare the\n",
    "        # ROI for classification via CNN\n",
    "        roi = gray[fY: fY + fH, fX: fX + fW]\n",
    "        roi = cv2.resize(roi, (32, 32))\n",
    "        roi = roi.astype(\"float\") / 255.0\n",
    "        roi = img_to_array(roi)\n",
    "        roi = np.expand_dims(roi, axis = 0)\n",
    "\n",
    "        # determine the probabilities of both \"smiling\" and \"not similing\"\n",
    "        # then set the label accordingly\n",
    "        (notSmiling, smiling) = model.predict(roi)[0]\n",
    "        label = \"Smiling %.2f\" % smiling*100 if smiling > notSmiling else \"Not Smiling %.2f\" % notSmiling*100\n",
    "\n",
    "        # display the label and bounding box rectangle on the output frame\n",
    "        cv2.putText(frameClone, label, (fX, fY - 10), cv2.FONT_HERSHEY_SIMPLEX, 0.45, (0, 0, 255), 2)\n",
    "        cv2.rectangle(frameClone, (fX, fY), (fX + fW, fY + fH), (0, 0, 255), 2)\n",
    "\n",
    "    # show our detected faces along with smiling/not smiling labels\n",
    "    cv2.imshow(\"Face\", frameClone)\n",
    "\n",
    "    # if 'q' key is pressed, stop the loop\n",
    "    if cv2.waitKey(1) & 0xFF == ord(\"q\"):\n",
    "        break\n",
    "\n",
    "# cleanup the camera and close any open windows\n",
    "camera.release()\n",
    "cv2.destroyAllWindows()"
   ]
  }
 ],
 "metadata": {
  "interpreter": {
   "hash": "c60afd5285230bd6dc24163a1738b6b8afeedd4de85279a09aa8606f5eabbd44"
  },
  "kernelspec": {
   "display_name": "Python 3 (ipykernel)",
   "language": "python",
   "name": "python3"
  },
  "language_info": {
   "codemirror_mode": {
    "name": "ipython",
    "version": 3
   },
   "file_extension": ".py",
   "mimetype": "text/x-python",
   "name": "python",
   "nbconvert_exporter": "python",
   "pygments_lexer": "ipython3",
   "version": "3.7.11"
  }
 },
 "nbformat": 4,
 "nbformat_minor": 2
}
