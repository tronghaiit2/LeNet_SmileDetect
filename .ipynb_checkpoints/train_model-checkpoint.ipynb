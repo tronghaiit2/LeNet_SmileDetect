{
 "cells": [
  {
   "cell_type": "code",
   "execution_count": 1,
   "metadata": {},
   "outputs": [],
   "source": [
    "data_set = \"dataset/SMILEs\"\n",
    "output = \"output\"\n",
    "# initialize the list of data and labels\n",
    "data = []\n",
    "labels = []"
   ]
  },
  {
   "cell_type": "code",
   "execution_count": 2,
   "metadata": {},
   "outputs": [],
   "source": [
    "from sklearn.preprocessing import LabelEncoder\n",
    "from sklearn.model_selection import train_test_split\n",
    "from sklearn.metrics import classification_report\n",
    "from tensorflow.keras.preprocessing.image import img_to_array\n",
    "from tensorflow.keras.utils import to_categorical\n",
    "from pipeline.nn.conv import LeNet\n",
    "from imutils import paths\n",
    "from matplotlib import pyplot\n",
    "import imutils \n",
    "import numpy as np\n",
    "import argparse\n",
    "import cv2\n",
    "import os"
   ]
  },
  {
   "cell_type": "code",
   "execution_count": 3,
   "metadata": {},
   "outputs": [
    {
     "name": "stdout",
     "output_type": "stream",
     "text": [
      "6500\n",
      "6500\n"
     ]
    }
   ],
   "source": [
    "# loop over the input images\n",
    "for imagePath in sorted(list(paths.list_images(data_set))):\n",
    "    # load the image, pre-process it, and store it in the data list\n",
    "    #print(imagePath)\n",
    "    image = cv2.imread(imagePath)\n",
    "    image = cv2.cvtColor(image, cv2.COLOR_BGR2GRAY)\n",
    "    #image = imutils.resize(image, width=32)\n",
    "    image = cv2.resize(image, (32,32), interpolation=cv2.INTER_AREA)\n",
    "    image = img_to_array(image)\n",
    "    data.append(image)\n",
    "\n",
    "    # extract the class label from the image path and update the label list\n",
    "    label = imagePath.split(os.path.sep)[-3]\n",
    "    label = \"smiling\" if label == \"positives\" else \"not_smiling\"\n",
    "    labels.append(label)\n",
    "\n",
    "count = 0\n",
    "count_neg = 0\n",
    "for i in range(len(labels)):\n",
    "    if labels[i] == \"smiling\":\n",
    "        count += 1\n",
    "    else:\n",
    "        count_neg += 1\n",
    "\n",
    "print(count)\n",
    "print(count_neg)"
   ]
  },
  {
   "cell_type": "code",
   "execution_count": 4,
   "metadata": {},
   "outputs": [
    {
     "data": {
      "text/plain": [
       "13000"
      ]
     },
     "execution_count": 4,
     "metadata": {},
     "output_type": "execute_result"
    }
   ],
   "source": [
    "len(labels)\n",
    "#labels"
   ]
  },
  {
   "cell_type": "code",
   "execution_count": 5,
   "metadata": {},
   "outputs": [],
   "source": [
    "# scale the raw pixel intensities to the range [0, 1]\n",
    "data = np.array(data, dtype=\"float\") / 255.0\n",
    "labels = np.array(labels)"
   ]
  },
  {
   "cell_type": "code",
   "execution_count": 6,
   "metadata": {},
   "outputs": [
    {
     "data": {
      "text/plain": [
       "array(['not_smiling', 'not_smiling', 'not_smiling', ..., 'smiling',\n",
       "       'smiling', 'smiling'], dtype='<U11')"
      ]
     },
     "execution_count": 6,
     "metadata": {},
     "output_type": "execute_result"
    }
   ],
   "source": [
    "labels"
   ]
  },
  {
   "cell_type": "code",
   "execution_count": 7,
   "metadata": {},
   "outputs": [],
   "source": [
    "# convert the labels from integers to vectors\n",
    "le = LabelEncoder().fit(labels)\n",
    "labels = to_categorical(le.transform(labels), 2)\n",
    "\n",
    "# account for skew in the labeled data\n",
    "classTotals = labels.sum(axis=0)\n",
    "classWeight = classTotals.max() / classTotals"
   ]
  },
  {
   "cell_type": "code",
   "execution_count": 8,
   "metadata": {},
   "outputs": [
    {
     "data": {
      "text/plain": [
       "array([6500., 6500.], dtype=float32)"
      ]
     },
     "execution_count": 8,
     "metadata": {},
     "output_type": "execute_result"
    }
   ],
   "source": [
    "classTotals"
   ]
  },
  {
   "cell_type": "code",
   "execution_count": 9,
   "metadata": {},
   "outputs": [],
   "source": [
    "(trainX, testX, trainY, testY) = train_test_split(data, labels, test_size=0.20, stratify=labels, random_state=42)"
   ]
  },
  {
   "cell_type": "code",
   "execution_count": 10,
   "metadata": {},
   "outputs": [
    {
     "name": "stdout",
     "output_type": "stream",
     "text": [
      "10400 10400 2600 2600\n"
     ]
    }
   ],
   "source": [
    "print(len(trainX), len(trainY), len(testX), len(testY))"
   ]
  },
  {
   "cell_type": "code",
   "execution_count": 11,
   "metadata": {},
   "outputs": [
    {
     "name": "stdout",
     "output_type": "stream",
     "text": [
      "[INFO] compiling model...\n"
     ]
    }
   ],
   "source": [
    "# initialize the model\n",
    "print(\"[INFO] compiling model...\")\n",
    "model = LeNet.build(width=32, height=32, depth=1, classes=2)\n",
    "model.compile(loss=\"binary_crossentropy\", optimizer=\"adam\", metrics=[\"accuracy\"])"
   ]
  },
  {
   "cell_type": "code",
   "execution_count": 12,
   "metadata": {
    "scrolled": true
   },
   "outputs": [
    {
     "name": "stdout",
     "output_type": "stream",
     "text": [
      "[INFO] training network...\n",
      "Epoch 1/15\n",
      "163/163 [==============================] - 9s 51ms/step - loss: 0.6139 - accuracy: 0.6487 - val_loss: 0.5176 - val_accuracy: 0.7488\n",
      "Epoch 2/15\n",
      "163/163 [==============================] - 8s 47ms/step - loss: 0.4836 - accuracy: 0.7781 - val_loss: 0.4863 - val_accuracy: 0.7781\n",
      "Epoch 3/15\n",
      "163/163 [==============================] - 8s 48ms/step - loss: 0.4295 - accuracy: 0.8057 - val_loss: 0.4005 - val_accuracy: 0.8208\n",
      "Epoch 4/15\n",
      "163/163 [==============================] - 7s 46ms/step - loss: 0.3938 - accuracy: 0.8229 - val_loss: 0.3847 - val_accuracy: 0.8300\n",
      "Epoch 5/15\n",
      "163/163 [==============================] - 8s 52ms/step - loss: 0.3699 - accuracy: 0.8363 - val_loss: 0.3887 - val_accuracy: 0.8231\n",
      "Epoch 6/15\n",
      "163/163 [==============================] - 8s 49ms/step - loss: 0.3502 - accuracy: 0.8451 - val_loss: 0.3402 - val_accuracy: 0.8542\n",
      "Epoch 7/15\n",
      "163/163 [==============================] - 8s 47ms/step - loss: 0.3325 - accuracy: 0.8566 - val_loss: 0.3420 - val_accuracy: 0.8569\n",
      "Epoch 8/15\n",
      "163/163 [==============================] - 7s 42ms/step - loss: 0.3254 - accuracy: 0.8589 - val_loss: 0.3219 - val_accuracy: 0.8635\n",
      "Epoch 9/15\n",
      "163/163 [==============================] - 7s 43ms/step - loss: 0.3133 - accuracy: 0.8687 - val_loss: 0.3210 - val_accuracy: 0.8665\n",
      "Epoch 10/15\n",
      "163/163 [==============================] - 8s 47ms/step - loss: 0.3050 - accuracy: 0.8716 - val_loss: 0.3104 - val_accuracy: 0.8696\n",
      "Epoch 11/15\n",
      "163/163 [==============================] - 7s 42ms/step - loss: 0.2943 - accuracy: 0.8761 - val_loss: 0.3331 - val_accuracy: 0.8488\n",
      "Epoch 12/15\n",
      "163/163 [==============================] - 8s 51ms/step - loss: 0.2848 - accuracy: 0.8802 - val_loss: 0.3003 - val_accuracy: 0.8792\n",
      "Epoch 13/15\n",
      "163/163 [==============================] - 7s 42ms/step - loss: 0.2765 - accuracy: 0.8863 - val_loss: 0.3006 - val_accuracy: 0.8808\n",
      "Epoch 14/15\n",
      "163/163 [==============================] - 7s 43ms/step - loss: 0.2705 - accuracy: 0.8894 - val_loss: 0.2959 - val_accuracy: 0.8788\n",
      "Epoch 15/15\n",
      "163/163 [==============================] - 7s 42ms/step - loss: 0.2650 - accuracy: 0.8920 - val_loss: 0.3175 - val_accuracy: 0.8681\n"
     ]
    },
    {
     "data": {
      "image/png": "[encoded data removed]",
      "text/plain": [
       "<Figure size 432x288 with 1 Axes>"
      ]
     },
     "metadata": {
      "needs_background": "light"
     },
     "output_type": "display_data"
    }
   ],
   "source": [
    "# train the network\n",
    "print(\"[INFO] training network...\")\n",
    "H = model.fit(trainX, trainY, batch_size=64, epochs=20, validation_data=(testX, testY), verbose=1)\n",
    "pyplot.plot(H.history['loss'], label='train')\n",
    "pyplot.plot(H.history['val_loss'], label='test')\n",
    "pyplot.plot(H.history['accuracy'], label='acc')\n",
    "pyplot.plot(H.history['val_accuracy'], label='pre')\n",
    "pyplot.legend()\n",
    "pyplot.show()"
   ]
  },
  {
   "cell_type": "code",
   "execution_count": 13,
   "metadata": {},
   "outputs": [
    {
     "name": "stdout",
     "output_type": "stream",
     "text": [
      "[INFO] evaluating network...\n",
      "              precision    recall  f1-score   support\n",
      "\n",
      " not_smiling       0.91      0.81      0.86      1300\n",
      "     smiling       0.83      0.92      0.88      1300\n",
      "\n",
      "    accuracy                           0.87      2600\n",
      "   macro avg       0.87      0.87      0.87      2600\n",
      "weighted avg       0.87      0.87      0.87      2600\n",
      "\n"
     ]
    }
   ],
   "source": [
    "# evaluate the network\n",
    "print(\"[INFO] evaluating network...\")\n",
    "predictions = model.predict(testX, batch_size=64)\n",
    "print(classification_report(testY.argmax(axis=1), predictions.argmax(axis=1), target_names=le.classes_))"
   ]
  },
  {
   "cell_type": "code",
   "execution_count": 14,
   "metadata": {},
   "outputs": [
    {
     "name": "stdout",
     "output_type": "stream",
     "text": [
      "INFO:tensorflow:Assets written to: output\\assets\n"
     ]
    }
   ],
   "source": [
    "# save the model to disk\n",
    "model.save(output)"
   ]
  },
  {
   "cell_type": "code",
   "execution_count": null,
   "metadata": {},
   "outputs": [],
   "source": []
  }
 ],
 "metadata": {
  "interpreter": {
   "hash": "c60afd5285230bd6dc24163a1738b6b8afeedd4de85279a09aa8606f5eabbd44"
  },
  "kernelspec": {
   "display_name": "Python 3 (ipykernel)",
   "language": "python",
   "name": "python3"
  },
  "language_info": {
   "codemirror_mode": {
    "name": "ipython",
    "version": 3
   },
   "file_extension": ".py",
   "mimetype": "text/x-python",
   "name": "python",
   "nbconvert_exporter": "python",
   "pygments_lexer": "ipython3",
   "version": "3.7.11"
  }
 },
 "nbformat": 4,
 "nbformat_minor": 2
}
