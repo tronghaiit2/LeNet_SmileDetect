{
 "cells": [
  {
   "cell_type": "code",
   "execution_count": 28,
   "metadata": {},
   "outputs": [],
   "source": [
    "data_set = \"dataset/SMILEsmileD/SMILEs\"\n",
    "output = \"output\"\n",
    "# initialize the list of data and labels\n",
    "data = []\n",
    "labels = []"
   ]
  },
  {
   "cell_type": "code",
   "execution_count": 29,
   "metadata": {},
   "outputs": [],
   "source": [
    "from sklearn.preprocessing import LabelEncoder\n",
    "from sklearn.model_selection import train_test_split\n",
    "from sklearn.metrics import classification_report\n",
    "from tensorflow.keras.preprocessing.image import img_to_array\n",
    "from tensorflow.keras.utils import to_categorical\n",
    "from pipeline.nn.conv import LeNet\n",
    "from imutils import paths\n",
    "from matplotlib import pyplot\n",
    "import imutils \n",
    "import numpy as np\n",
    "import argparse\n",
    "import cv2\n",
    "import os"
   ]
  },
  {
   "cell_type": "code",
   "execution_count": 30,
   "metadata": {},
   "outputs": [
    {
     "name": "stdout",
     "output_type": "stream",
     "text": [
      "6500\n",
      "6500\n"
     ]
    }
   ],
   "source": [
    "# loop over the input images\n",
    "for imagePath in sorted(list(paths.list_images(data_set))):\n",
    "    # load the image, pre-process it, and store it in the data list\n",
    "    #print(imagePath)\n",
    "    image = cv2.imread(imagePath)\n",
    "    image = cv2.cvtColor(image, cv2.COLOR_BGR2GRAY)\n",
    "    #image = imutils.resize(image, width=32)\n",
    "    image = cv2.resize(image, (28,28), interpolation=cv2.INTER_AREA)\n",
    "    image = img_to_array(image)\n",
    "    data.append(image)\n",
    "\n",
    "    # extract the class label from the image path and update the label list\n",
    "    label = imagePath.split(os.path.sep)[-3]\n",
    "    label = \"smiling\" if label == \"positives\" else \"not_smiling\"\n",
    "    labels.append(label)\n",
    "\n",
    "count = 0\n",
    "count_neg = 0\n",
    "for i in range(len(labels)):\n",
    "    if labels[i] == \"smiling\":\n",
    "        count += 1\n",
    "    else:\n",
    "        count_neg += 1\n",
    "\n",
    "print(count)\n",
    "print(count_neg)"
   ]
  },
  {
   "cell_type": "code",
   "execution_count": 31,
   "metadata": {},
   "outputs": [
    {
     "data": {
      "text/plain": [
       "13000"
      ]
     },
     "execution_count": 31,
     "metadata": {},
     "output_type": "execute_result"
    }
   ],
   "source": [
    "len(labels)\n",
    "#labels"
   ]
  },
  {
   "cell_type": "code",
   "execution_count": 32,
   "metadata": {},
   "outputs": [],
   "source": [
    "# scale the raw pixel intensities to the range [0, 1]\n",
    "data = np.array(data, dtype=\"float\") / 255.0\n",
    "labels = np.array(labels)"
   ]
  },
  {
   "cell_type": "code",
   "execution_count": 33,
   "metadata": {},
   "outputs": [
    {
     "data": {
      "text/plain": [
       "array(['not_smiling', 'not_smiling', 'not_smiling', ..., 'smiling',\n",
       "       'smiling', 'smiling'], dtype='<U11')"
      ]
     },
     "execution_count": 33,
     "metadata": {},
     "output_type": "execute_result"
    }
   ],
   "source": [
    "labels"
   ]
  },
  {
   "cell_type": "code",
   "execution_count": 34,
   "metadata": {},
   "outputs": [],
   "source": [
    "# convert the labels from integers to vectors\n",
    "le = LabelEncoder().fit(labels)\n",
    "labels = to_categorical(le.transform(labels), 2)\n",
    "\n",
    "# account for skew in the labeled data\n",
    "classTotals = labels.sum(axis=0)\n",
    "classWeight = classTotals.max() / classTotals"
   ]
  },
  {
   "cell_type": "code",
   "execution_count": 35,
   "metadata": {},
   "outputs": [
    {
     "data": {
      "text/plain": [
       "array([6500., 6500.], dtype=float32)"
      ]
     },
     "execution_count": 35,
     "metadata": {},
     "output_type": "execute_result"
    }
   ],
   "source": [
    "classTotals"
   ]
  },
  {
   "cell_type": "code",
   "execution_count": 36,
   "metadata": {},
   "outputs": [],
   "source": [
    "(trainX, testX, trainY, testY) = train_test_split(data, labels, test_size=0.20, stratify=labels, random_state=42)"
   ]
  },
  {
   "cell_type": "code",
   "execution_count": 37,
   "metadata": {},
   "outputs": [
    {
     "name": "stdout",
     "output_type": "stream",
     "text": [
      "10400 10400 2600 2600\n"
     ]
    }
   ],
   "source": [
    "print(len(trainX), len(trainY), len(testX), len(testY))"
   ]
  },
  {
   "cell_type": "code",
   "execution_count": 38,
   "metadata": {},
   "outputs": [
    {
     "name": "stdout",
     "output_type": "stream",
     "text": [
      "[INFO] compiling model...\n"
     ]
    }
   ],
   "source": [
    "# initialize the model\n",
    "print(\"[INFO] compiling model...\")\n",
    "model = LeNet.build(width=28, height=28, depth=1, classes=2)\n",
    "model.compile(loss=\"binary_crossentropy\", optimizer=\"adam\", metrics=[\"accuracy\"])"
   ]
  },
  {
   "cell_type": "code",
   "execution_count": 39,
   "metadata": {
    "scrolled": true
   },
   "outputs": [
    {
     "name": "stdout",
     "output_type": "stream",
     "text": [
      "[INFO] training network...\n",
      "Epoch 1/15\n",
      "163/163 [==============================] - 3s 14ms/step - loss: 0.6531 - accuracy: 0.6459 - val_loss: 0.5825 - val_accuracy: 0.7285\n",
      "Epoch 2/15\n",
      "163/163 [==============================] - 2s 13ms/step - loss: 0.5274 - accuracy: 0.7548 - val_loss: 0.5171 - val_accuracy: 0.7581\n",
      "Epoch 3/15\n",
      "163/163 [==============================] - 2s 14ms/step - loss: 0.4959 - accuracy: 0.7687 - val_loss: 0.5047 - val_accuracy: 0.7508\n",
      "Epoch 4/15\n",
      "163/163 [==============================] - 2s 13ms/step - loss: 0.4808 - accuracy: 0.7716 - val_loss: 0.4815 - val_accuracy: 0.7681\n",
      "Epoch 5/15\n",
      "163/163 [==============================] - 2s 14ms/step - loss: 0.4669 - accuracy: 0.7823 - val_loss: 0.4689 - val_accuracy: 0.7796\n",
      "Epoch 6/15\n",
      "163/163 [==============================] - 2s 14ms/step - loss: 0.4604 - accuracy: 0.7859 - val_loss: 0.4613 - val_accuracy: 0.7827\n",
      "Epoch 7/15\n",
      "163/163 [==============================] - 2s 14ms/step - loss: 0.4518 - accuracy: 0.7925 - val_loss: 0.4566 - val_accuracy: 0.7846\n",
      "Epoch 8/15\n",
      "163/163 [==============================] - 2s 15ms/step - loss: 0.4435 - accuracy: 0.7973 - val_loss: 0.4530 - val_accuracy: 0.7835\n",
      "Epoch 9/15\n",
      "163/163 [==============================] - 2s 14ms/step - loss: 0.4381 - accuracy: 0.8017 - val_loss: 0.4434 - val_accuracy: 0.7996\n",
      "Epoch 10/15\n",
      "163/163 [==============================] - 2s 15ms/step - loss: 0.4308 - accuracy: 0.8032 - val_loss: 0.4299 - val_accuracy: 0.8058\n",
      "Epoch 11/15\n",
      "163/163 [==============================] - 3s 16ms/step - loss: 0.4220 - accuracy: 0.8099 - val_loss: 0.4259 - val_accuracy: 0.8027\n",
      "Epoch 12/15\n",
      "163/163 [==============================] - 3s 17ms/step - loss: 0.4172 - accuracy: 0.8137 - val_loss: 0.4152 - val_accuracy: 0.8135\n",
      "Epoch 13/15\n",
      "163/163 [==============================] - 3s 17ms/step - loss: 0.4107 - accuracy: 0.8159 - val_loss: 0.4090 - val_accuracy: 0.8119\n",
      "Epoch 14/15\n",
      "163/163 [==============================] - 3s 15ms/step - loss: 0.4065 - accuracy: 0.8201 - val_loss: 0.4144 - val_accuracy: 0.8038\n",
      "Epoch 15/15\n",
      "163/163 [==============================] - 3s 18ms/step - loss: 0.4008 - accuracy: 0.8205 - val_loss: 0.3996 - val_accuracy: 0.8200\n"
     ]
    },
    {
     "data": {
      "image/png": "[encoded data removed]",
      "text/plain": [
       "<Figure size 432x288 with 1 Axes>"
      ]
     },
     "metadata": {
      "needs_background": "light"
     },
     "output_type": "display_data"
    }
   ],
   "source": [
    "# train the network\n",
    "# Max Pooling\n",
    "print(\"[INFO] training network...\")\n",
    "H = model.fit(trainX, trainY, batch_size=64, epochs=15, validation_data=(testX, testY), verbose=1)\n",
    "pyplot.plot(H.history['loss'], label='train')\n",
    "pyplot.plot(H.history['val_loss'], label='test')\n",
    "#pyplot.plot(H.history['accuracy'], label='acc')\n",
    "#pyplot.plot(H.history['val_accuracy'], label='pre')\n",
    "pyplot.legend()\n",
    "pyplot.show()"
   ]
  },
  {
   "cell_type": "code",
   "execution_count": 40,
   "metadata": {},
   "outputs": [
    {
     "name": "stdout",
     "output_type": "stream",
     "text": [
      "[INFO] evaluating network...\n",
      "              precision    recall  f1-score   support\n",
      "\n",
      " not_smiling       0.81      0.83      0.82      1300\n",
      "     smiling       0.83      0.81      0.82      1300\n",
      "\n",
      "    accuracy                           0.82      2600\n",
      "   macro avg       0.82      0.82      0.82      2600\n",
      "weighted avg       0.82      0.82      0.82      2600\n",
      "\n"
     ]
    }
   ],
   "source": [
    "# evaluate the network\n",
    "print(\"[INFO] evaluating network...\")\n",
    "predictions = model.predict(testX, batch_size=64)\n",
    "print(classification_report(testY.argmax(axis=1), predictions.argmax(axis=1), target_names=le.classes_))"
   ]
  },
  {
   "cell_type": "code",
   "execution_count": 25,
   "metadata": {},
   "outputs": [
    {
     "name": "stdout",
     "output_type": "stream",
     "text": [
      "[INFO] training network...\n",
      "Epoch 1/15\n",
      "163/163 [==============================] - 3s 13ms/step - loss: 0.6462 - accuracy: 0.6399 - val_loss: 0.5541 - val_accuracy: 0.7415\n",
      "Epoch 2/15\n",
      "163/163 [==============================] - 2s 12ms/step - loss: 0.5125 - accuracy: 0.7573 - val_loss: 0.5094 - val_accuracy: 0.7554\n",
      "Epoch 3/15\n",
      "163/163 [==============================] - 2s 14ms/step - loss: 0.4954 - accuracy: 0.7631 - val_loss: 0.4966 - val_accuracy: 0.7646\n",
      "Epoch 4/15\n",
      "163/163 [==============================] - 2s 13ms/step - loss: 0.4849 - accuracy: 0.7683 - val_loss: 0.4857 - val_accuracy: 0.7642\n",
      "Epoch 5/15\n",
      "163/163 [==============================] - 2s 13ms/step - loss: 0.4761 - accuracy: 0.7728 - val_loss: 0.4799 - val_accuracy: 0.7750\n",
      "Epoch 6/15\n",
      "163/163 [==============================] - 2s 13ms/step - loss: 0.4685 - accuracy: 0.7768 - val_loss: 0.4744 - val_accuracy: 0.7727\n",
      "Epoch 7/15\n",
      "163/163 [==============================] - 2s 14ms/step - loss: 0.4604 - accuracy: 0.7833 - val_loss: 0.4602 - val_accuracy: 0.7842\n",
      "Epoch 8/15\n",
      "163/163 [==============================] - 2s 15ms/step - loss: 0.4519 - accuracy: 0.7882 - val_loss: 0.4524 - val_accuracy: 0.7873\n",
      "Epoch 9/15\n",
      "163/163 [==============================] - 2s 15ms/step - loss: 0.4445 - accuracy: 0.7929 - val_loss: 0.4439 - val_accuracy: 0.7896\n",
      "Epoch 10/15\n",
      "163/163 [==============================] - 3s 15ms/step - loss: 0.4380 - accuracy: 0.7974 - val_loss: 0.4468 - val_accuracy: 0.7969\n",
      "Epoch 11/15\n",
      "163/163 [==============================] - 3s 17ms/step - loss: 0.4336 - accuracy: 0.7988 - val_loss: 0.4330 - val_accuracy: 0.8008\n",
      "Epoch 12/15\n",
      "163/163 [==============================] - 2s 15ms/step - loss: 0.4268 - accuracy: 0.8056 - val_loss: 0.4269 - val_accuracy: 0.8023\n",
      "Epoch 13/15\n",
      "163/163 [==============================] - 3s 16ms/step - loss: 0.4212 - accuracy: 0.8076 - val_loss: 0.4186 - val_accuracy: 0.8108\n",
      "Epoch 14/15\n",
      "163/163 [==============================] - 3s 16ms/step - loss: 0.4148 - accuracy: 0.8112 - val_loss: 0.4128 - val_accuracy: 0.8112\n",
      "Epoch 15/15\n",
      "163/163 [==============================] - 3s 16ms/step - loss: 0.4094 - accuracy: 0.8157 - val_loss: 0.4098 - val_accuracy: 0.8165\n"
     ]
    },
    {
     "data": {
      "image/png": "[encoded data removed]",
      "text/plain": [
       "<Figure size 432x288 with 1 Axes>"
      ]
     },
     "metadata": {
      "needs_background": "light"
     },
     "output_type": "display_data"
    }
   ],
   "source": [
    "# train the network\n",
    "# Average Pooling\n",
    "print(\"[INFO] training network...\")\n",
    "H = model.fit(trainX, trainY, batch_size=64, epochs=15, validation_data=(testX, testY), verbose=1)\n",
    "pyplot.plot(H.history['loss'], label='train')\n",
    "pyplot.plot(H.history['val_loss'], label='test')\n",
    "#pyplot.plot(H.history['accuracy'], label='acc')\n",
    "#pyplot.plot(H.history['val_accuracy'], label='pre')\n",
    "pyplot.legend()\n",
    "pyplot.show()"
   ]
  },
  {
   "cell_type": "code",
   "execution_count": 26,
   "metadata": {},
   "outputs": [
    {
     "name": "stdout",
     "output_type": "stream",
     "text": [
      "[INFO] evaluating network...\n",
      "              precision    recall  f1-score   support\n",
      "\n",
      " not_smiling       0.84      0.78      0.81      1300\n",
      "     smiling       0.80      0.85      0.82      1300\n",
      "\n",
      "    accuracy                           0.82      2600\n",
      "   macro avg       0.82      0.82      0.82      2600\n",
      "weighted avg       0.82      0.82      0.82      2600\n",
      "\n"
     ]
    }
   ],
   "source": [
    "# evaluate the network\n",
    "print(\"[INFO] evaluating network...\")\n",
    "predictions = model.predict(testX, batch_size=64)\n",
    "print(classification_report(testY.argmax(axis=1), predictions.argmax(axis=1), target_names=le.classes_))"
   ]
  },
  {
   "cell_type": "code",
   "execution_count": 41,
   "metadata": {},
   "outputs": [
    {
     "name": "stdout",
     "output_type": "stream",
     "text": [
      "INFO:tensorflow:Assets written to: output\\assets\n"
     ]
    }
   ],
   "source": [
    "# save the model to disk\n",
    "model.save(output)"
   ]
  },
  {
   "cell_type": "code",
   "execution_count": null,
   "metadata": {},
   "outputs": [],
   "source": []
  }
 ],
 "metadata": {
  "interpreter": {
   "hash": "c60afd5285230bd6dc24163a1738b6b8afeedd4de85279a09aa8606f5eabbd44"
  },
  "kernelspec": {
   "display_name": "Python 3 (ipykernel)",
   "language": "python",
   "name": "python3"
  },
  "language_info": {
   "codemirror_mode": {
    "name": "ipython",
    "version": 3
   },
   "file_extension": ".py",
   "mimetype": "text/x-python",
   "name": "python",
   "nbconvert_exporter": "python",
   "pygments_lexer": "ipython3",
   "version": "3.7.11"
  }
 },
 "nbformat": 4,
 "nbformat_minor": 2
}
